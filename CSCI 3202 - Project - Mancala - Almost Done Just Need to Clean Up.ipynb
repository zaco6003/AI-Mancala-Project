   ]
   "source": [
    "import copy, math, time, random\n",
